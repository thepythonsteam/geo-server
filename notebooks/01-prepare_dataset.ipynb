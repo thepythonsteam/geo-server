{
 "cells": [
  {
   "cell_type": "markdown",
   "metadata": {},
   "source": [
    "# Подготовка данных"
   ]
  },
  {
   "cell_type": "markdown",
   "metadata": {},
   "source": [
    "### Импорт библиотек"
   ]
  },
  {
   "cell_type": "code",
   "execution_count": 1,
   "metadata": {},
   "outputs": [],
   "source": [
    "import re\n",
    "import numpy as np\n",
    "import pandas as pd"
   ]
  },
  {
   "cell_type": "code",
   "execution_count": 2,
   "metadata": {},
   "outputs": [],
   "source": [
    "pd.set_option('display.max_columns', None)\n",
    "pd.set_option('display.max_rows', None)"
   ]
  },
  {
   "cell_type": "markdown",
   "metadata": {},
   "source": [
    "# Рестораны"
   ]
  },
  {
   "cell_type": "code",
   "execution_count": 3,
   "metadata": {},
   "outputs": [],
   "source": [
    "df_restaurants = pd.read_json('../mining/restaurants_new.json')"
   ]
  },
  {
   "cell_type": "code",
   "execution_count": 4,
   "metadata": {},
   "outputs": [
    {
     "data": {
      "text/plain": [
       "(14041, 12)"
      ]
     },
     "execution_count": 4,
     "metadata": {},
     "output_type": "execute_result"
    }
   ],
   "source": [
    "df_restaurants.shape"
   ]
  },
  {
   "cell_type": "code",
   "execution_count": 5,
   "metadata": {},
   "outputs": [],
   "source": [
    "for i in range(1, 6):\n",
    "    column_name = '{}_star'.format(i)\n",
    "    df_restaurants[column_name] = df_restaurants['assessments_info'].apply(lambda x: x.get(column_name)).\\\n",
    "        str.encode('ascii', 'ignore').str.decode('utf-8').astype(float).fillna(0).astype(int)"
   ]
  },
  {
   "cell_type": "code",
   "execution_count": 6,
   "metadata": {},
   "outputs": [],
   "source": [
    "df_restaurants['review_count'] = df_restaurants['review_count'].str.encode('ascii', 'ignore').str.decode('utf-8').replace('', '0').astype(int)"
   ]
  },
  {
   "cell_type": "code",
   "execution_count": 7,
   "metadata": {},
   "outputs": [],
   "source": [
    "df_restaurants['rating'] = df_restaurants['rating'].str.encode('ascii', 'ignore').str.decode('utf-8').str.replace(',', '.').replace('', '0').astype(float)"
   ]
  },
  {
   "cell_type": "code",
   "execution_count": 13,
   "metadata": {},
   "outputs": [],
   "source": [
    "stop_words = [\n",
    "    'Завтрак',\n",
    "    'Завтрак типа \"шведский стол\"',\n",
    "    'Обед', \n",
    "    'Ужин', \n",
    "    'Принимаются только наличные', \n",
    "    'Утвержденная парковка', \n",
    "    'Электронные платежи',\n",
    "    'Бесплатный Wi-Fi', \n",
    "    'Места для сидения',\n",
    "    'Обслуживание посетителей за\\xa0столиками',\n",
    "    'Принимаются карты Mastercard',\n",
    "    'Принимаются карты Visa',\n",
    "    'Для посетителей на автомобилях',\n",
    "    'Имеется парковка', \n",
    "    'Парковка на улице', \n",
    "    'Телевизор',\n",
    "    'Принимаются кредитные карты',\n",
    "    'Для\\xa0гостей с\\xa0собаками',\n",
    "    'Открыто допоздна',\n",
    "    '',\n",
    "]"
   ]
  },
  {
   "cell_type": "code",
   "execution_count": 14,
   "metadata": {},
   "outputs": [],
   "source": [
    "df_restaurants['kitchen'] = df_restaurants['locality'].str.split(',').apply(lambda x: [w.strip() for w in x]).\\\n",
    "    apply(lambda x: [w for w in x if w not in stop_words]).apply(lambda x: [w for w in x if 'руб' not in w])"
   ]
  },
  {
   "cell_type": "code",
   "execution_count": 15,
   "metadata": {},
   "outputs": [
    {
     "data": {
      "text/plain": [
       "array(['Русская', 'Кафе', 'Средиземноморская', 'Барбекю', 'Гриль',\n",
       "       'Восточноевропейская', 'Европейская', 'Центральноевропейская',\n",
       "       'Японская', 'Бар', 'Азиатская', 'Гастропаб', 'Супы', 'Современная',\n",
       "       'Французская', 'Испанская', 'Паб', 'Итальянская', 'Пицца',\n",
       "       'Морепродукты', 'Бельгийская', 'Стейк-хаус',\n",
       "       'Подходит для вегетарианцев', 'Для веганов', 'Безглютеновые блюда',\n",
       "       'Напитки', 'Американская', 'Грузинская', 'Фастфуд', 'Фьюжн',\n",
       "       'Винный бар', 'Кавказская', 'Аргентинская', 'Ирландская',\n",
       "       'Британская', 'Шотландская', 'Украинская', 'Здоровая',\n",
       "       'Международная', 'Тосканская', 'Центрально-итальянская',\n",
       "       'Каталанская', 'Неаполитанская', 'Кухня Кампании', 'Суши',\n",
       "       'Южно-итальянская', 'Шведская', 'Скандинавская', 'Датская',\n",
       "       'Норвежская', 'Открыто допоздна', 'Закусочная', 'Кошерная',\n",
       "       'Немецкая', 'Корейская', 'Карибская', 'Гавайская', 'Ямайская',\n",
       "       'Бранч', 'Филиппинская', 'Кухня Хоккайдо', 'Ближневосточная',\n",
       "       'Китайская', 'Бары с рестораном', 'Индийская', 'Вьетнамская',\n",
       "       'Израильская', 'Тайская', nan, 'Узбекская', 'Греческая',\n",
       "       'Мексиканская', 'Марокканская', 'Гастроном', 'Армянская',\n",
       "       'Азербайджанская', 'Турецкая', 'Латиноамериканская', 'Перуанская',\n",
       "       'Халяль', 'Индонезийская', 'Бронирование', 'Подают алкоголь',\n",
       "       'Кубинская', 'Южноамериканская', 'Японская кухня-фьюжн',\n",
       "       'Швейцарская', 'Еда на вынос', 'Сицилийская', 'Арабская',\n",
       "       'Паб с пивоварней', 'Доставка', 'Чешская', 'Пивные рестораны',\n",
       "       'Детские стульчики для кормления', 'Доступ для кресел-каталок',\n",
       "       'Римская', 'Кухня Лацио', 'Центральноамериканская', 'Непальская',\n",
       "       'Полинезийская', 'Канадская', 'Шриланкийская', 'Юговосточная',\n",
       "       'Австрийская', 'Румынская', 'Ливанская', 'Австралийская',\n",
       "       'Персидская', 'Уличная еда', 'Польская', '', 'Голландская',\n",
       "       'Африканская', 'Эфиопская', 'Хорватская', 'Португальская',\n",
       "       'Столики на открытом воздухе', 'Банкет', 'Вино и пиво',\n",
       "       'Живая музыка', 'Семейный', 'Центральноазиатская', 'Монгольская',\n",
       "       'Пакистанская', 'Словенская', 'Тайваньская', 'Египетская',\n",
       "       'Лечебное питание', 'Бразильская', 'Индейская', 'Малазийская',\n",
       "       'Бирманская', 'Бангладешская', 'Салон японских сладостей',\n",
       "       'Сингапурская', 'Афганская', 'Тибетская', 'Северно-итальянская',\n",
       "       'Фруктовые салоны', 'Венесуэльская', 'Колумбийская', 'Кухня Кюсю',\n",
       "       'Латышская', 'Фуцзянь', 'Синьцзян', 'Пекинская кухня',\n",
       "       'Венгерская'], dtype=object)"
      ]
     },
     "execution_count": 15,
     "metadata": {},
     "output_type": "execute_result"
    }
   ],
   "source": [
    "df_restaurants['kitchen'].explode().unique()"
   ]
  },
  {
   "cell_type": "code",
   "execution_count": 16,
   "metadata": {},
   "outputs": [],
   "source": [
    "df_restaurants['price'] = df_restaurants['price'].str.encode('ascii', 'ignore').str.decode('utf-8').str.replace(',', '').\\\n",
    "    str.replace(' ', '').str.split('-').apply(lambda x: [w.strip() for w in x])"
   ]
  },
  {
   "cell_type": "code",
   "execution_count": 17,
   "metadata": {},
   "outputs": [],
   "source": [
    "df_restaurants['price_min'] = df_restaurants['price'].apply(lambda x: int(x[0]) if x[0] != '' else 0)\n",
    "df_restaurants['price_max'] = df_restaurants['price'].apply(lambda x: int(x[1]) if x[0] != '' else 0)"
   ]
  },
  {
   "cell_type": "code",
   "execution_count": 18,
   "metadata": {},
   "outputs": [
    {
     "data": {
      "text/plain": [
       "' Местоположение и контактные данныеул. Мытная, 74 Даниловский рынок, Москва 115191 РоссияДаниловскийСайтЭлектронная почта+7 495 120-00-97Исправить данные об объекте'"
      ]
     },
     "execution_count": 18,
     "metadata": {},
     "output_type": "execute_result"
    }
   ],
   "source": [
    "df_restaurants['geodata'][0]"
   ]
  },
  {
   "cell_type": "code",
   "execution_count": 19,
   "metadata": {},
   "outputs": [],
   "source": [
    "restaurants = df_restaurants['title'].unique().tolist()"
   ]
  },
  {
   "cell_type": "code",
   "execution_count": 20,
   "metadata": {},
   "outputs": [],
   "source": [
    "# restaurants"
   ]
  },
  {
   "cell_type": "code",
   "execution_count": 21,
   "metadata": {},
   "outputs": [],
   "source": [
    "df_restaurants['rest_id'] = df_restaurants['url'][0].split('-')[1] + '-' + df_restaurants['url'][0].split('-')[2]"
   ]
  },
  {
   "cell_type": "code",
   "execution_count": 22,
   "metadata": {},
   "outputs": [],
   "source": [
    "columns = [\n",
    "    'rest_id',\n",
    "    'url',\n",
    "    'title',\n",
    "    'rating',\n",
    "    'review_count',\n",
    "    'street_adress',\n",
    "    'phone_number',\n",
    "    '1_star',\n",
    "    '2_star',\n",
    "    '3_star',\n",
    "    '4_star',\n",
    "    '5_star',\n",
    "    'kitchen',\n",
    "    'price_min',\n",
    "    'price_max',\n",
    "]"
   ]
  },
  {
   "cell_type": "code",
   "execution_count": 23,
   "metadata": {},
   "outputs": [
    {
     "data": {
      "text/html": [
       "<div>\n",
       "<style scoped>\n",
       "    .dataframe tbody tr th:only-of-type {\n",
       "        vertical-align: middle;\n",
       "    }\n",
       "\n",
       "    .dataframe tbody tr th {\n",
       "        vertical-align: top;\n",
       "    }\n",
       "\n",
       "    .dataframe thead th {\n",
       "        text-align: right;\n",
       "    }\n",
       "</style>\n",
       "<table border=\"1\" class=\"dataframe\">\n",
       "  <thead>\n",
       "    <tr style=\"text-align: right;\">\n",
       "      <th></th>\n",
       "      <th>rest_id</th>\n",
       "      <th>url</th>\n",
       "      <th>title</th>\n",
       "      <th>rating</th>\n",
       "      <th>review_count</th>\n",
       "      <th>street_adress</th>\n",
       "      <th>phone_number</th>\n",
       "      <th>1_star</th>\n",
       "      <th>2_star</th>\n",
       "      <th>3_star</th>\n",
       "      <th>4_star</th>\n",
       "      <th>5_star</th>\n",
       "      <th>kitchen</th>\n",
       "      <th>price_min</th>\n",
       "      <th>price_max</th>\n",
       "    </tr>\n",
       "  </thead>\n",
       "  <tbody>\n",
       "    <tr>\n",
       "      <th>0</th>\n",
       "      <td>g298484-d10841351</td>\n",
       "      <td>https://www.tripadvisor.ru//Restaurant_Review-...</td>\n",
       "      <td>Любовь Пирогова</td>\n",
       "      <td>5.0</td>\n",
       "      <td>138</td>\n",
       "      <td>ул. Мытная, 74 Даниловский рынок, Москва 11519...</td>\n",
       "      <td>+7 495 120-00-97</td>\n",
       "      <td>2</td>\n",
       "      <td>3</td>\n",
       "      <td>3</td>\n",
       "      <td>4</td>\n",
       "      <td>122</td>\n",
       "      <td>[Русская, Кафе]</td>\n",
       "      <td>150</td>\n",
       "      <td>500</td>\n",
       "    </tr>\n",
       "    <tr>\n",
       "      <th>1</th>\n",
       "      <td>g298484-d10841351</td>\n",
       "      <td>https://www.tripadvisor.ru//Restaurant_Review-...</td>\n",
       "      <td>Джумбус</td>\n",
       "      <td>5.0</td>\n",
       "      <td>320</td>\n",
       "      <td>ул. Добровольческая 12, Москва 109004 Россия</td>\n",
       "      <td>+7 903 590-34-70</td>\n",
       "      <td>4</td>\n",
       "      <td>2</td>\n",
       "      <td>9</td>\n",
       "      <td>11</td>\n",
       "      <td>279</td>\n",
       "      <td>[Средиземноморская, Барбекю, Гриль, Восточноев...</td>\n",
       "      <td>100</td>\n",
       "      <td>1000</td>\n",
       "    </tr>\n",
       "    <tr>\n",
       "      <th>2</th>\n",
       "      <td>g298484-d10841351</td>\n",
       "      <td>https://www.tripadvisor.ru//Restaurant_Review-...</td>\n",
       "      <td>[KU:]  рамен изакая бар</td>\n",
       "      <td>5.0</td>\n",
       "      <td>143</td>\n",
       "      <td>Большая Грузинская, 69, Москва 123056 Россия</td>\n",
       "      <td>+7 499 609-00-69</td>\n",
       "      <td>3</td>\n",
       "      <td>2</td>\n",
       "      <td>3</td>\n",
       "      <td>2</td>\n",
       "      <td>131</td>\n",
       "      <td>[Японская, Бар, Азиатская, Гастропаб, Супы]</td>\n",
       "      <td>240</td>\n",
       "      <td>880</td>\n",
       "    </tr>\n",
       "    <tr>\n",
       "      <th>3</th>\n",
       "      <td>g298484-d10841351</td>\n",
       "      <td>https://www.tripadvisor.ru//Restaurant_Review-...</td>\n",
       "      <td>АндерСон</td>\n",
       "      <td>5.0</td>\n",
       "      <td>222</td>\n",
       "      <td>Жулебинский бульвар, 5 ТЦ \"Динамит\", Москва 10...</td>\n",
       "      <td>+7 495 252-85-75</td>\n",
       "      <td>5</td>\n",
       "      <td>3</td>\n",
       "      <td>5</td>\n",
       "      <td>14</td>\n",
       "      <td>191</td>\n",
       "      <td>[Европейская, Современная, Центральноевропейская]</td>\n",
       "      <td>300</td>\n",
       "      <td>1500</td>\n",
       "    </tr>\n",
       "    <tr>\n",
       "      <th>4</th>\n",
       "      <td>g298484-d10841351</td>\n",
       "      <td>https://www.tripadvisor.ru//Restaurant_Review-...</td>\n",
       "      <td>Сабор де ла Вида Ресторан</td>\n",
       "      <td>5.0</td>\n",
       "      <td>323</td>\n",
       "      <td>ул. 1905 года, 10/1, Москва 123022 Россия</td>\n",
       "      <td>+7 926 222-71-22</td>\n",
       "      <td>2</td>\n",
       "      <td>2</td>\n",
       "      <td>7</td>\n",
       "      <td>16</td>\n",
       "      <td>275</td>\n",
       "      <td>[Средиземноморская]</td>\n",
       "      <td>280</td>\n",
       "      <td>2500</td>\n",
       "    </tr>\n",
       "  </tbody>\n",
       "</table>\n",
       "</div>"
      ],
      "text/plain": [
       "             rest_id                                                url  \\\n",
       "0  g298484-d10841351  https://www.tripadvisor.ru//Restaurant_Review-...   \n",
       "1  g298484-d10841351  https://www.tripadvisor.ru//Restaurant_Review-...   \n",
       "2  g298484-d10841351  https://www.tripadvisor.ru//Restaurant_Review-...   \n",
       "3  g298484-d10841351  https://www.tripadvisor.ru//Restaurant_Review-...   \n",
       "4  g298484-d10841351  https://www.tripadvisor.ru//Restaurant_Review-...   \n",
       "\n",
       "                       title  rating  review_count  \\\n",
       "0            Любовь Пирогова     5.0           138   \n",
       "1                    Джумбус     5.0           320   \n",
       "2    [KU:]  рамен изакая бар     5.0           143   \n",
       "3                   АндерСон     5.0           222   \n",
       "4  Сабор де ла Вида Ресторан     5.0           323   \n",
       "\n",
       "                                       street_adress      phone_number  \\\n",
       "0  ул. Мытная, 74 Даниловский рынок, Москва 11519...  +7 495 120-00-97   \n",
       "1       ул. Добровольческая 12, Москва 109004 Россия  +7 903 590-34-70   \n",
       "2       Большая Грузинская, 69, Москва 123056 Россия  +7 499 609-00-69   \n",
       "3  Жулебинский бульвар, 5 ТЦ \"Динамит\", Москва 10...  +7 495 252-85-75   \n",
       "4          ул. 1905 года, 10/1, Москва 123022 Россия  +7 926 222-71-22   \n",
       "\n",
       "   1_star  2_star  3_star  4_star  5_star  \\\n",
       "0       2       3       3       4     122   \n",
       "1       4       2       9      11     279   \n",
       "2       3       2       3       2     131   \n",
       "3       5       3       5      14     191   \n",
       "4       2       2       7      16     275   \n",
       "\n",
       "                                             kitchen  price_min  price_max  \n",
       "0                                    [Русская, Кафе]        150        500  \n",
       "1  [Средиземноморская, Барбекю, Гриль, Восточноев...        100       1000  \n",
       "2        [Японская, Бар, Азиатская, Гастропаб, Супы]        240        880  \n",
       "3  [Европейская, Современная, Центральноевропейская]        300       1500  \n",
       "4                                [Средиземноморская]        280       2500  "
      ]
     },
     "execution_count": 23,
     "metadata": {},
     "output_type": "execute_result"
    }
   ],
   "source": [
    "df_restaurants[columns].head()"
   ]
  },
  {
   "cell_type": "code",
   "execution_count": 24,
   "metadata": {},
   "outputs": [],
   "source": [
    "df_restaurants[columns].to_feather('../data/restaurants.feather')"
   ]
  },
  {
   "cell_type": "markdown",
   "metadata": {},
   "source": [
    "# Обзоры"
   ]
  },
  {
   "cell_type": "code",
   "execution_count": 241,
   "metadata": {},
   "outputs": [],
   "source": [
    "df_reviews = pd.read_json('../mining/reviews.json')"
   ]
  },
  {
   "cell_type": "code",
   "execution_count": 242,
   "metadata": {},
   "outputs": [
    {
     "data": {
      "text/plain": [
       "(332139, 8)"
      ]
     },
     "execution_count": 242,
     "metadata": {},
     "output_type": "execute_result"
    }
   ],
   "source": [
    "df_reviews.shape"
   ]
  },
  {
   "cell_type": "code",
   "execution_count": 245,
   "metadata": {},
   "outputs": [],
   "source": [
    "df_reviews['rest_id'] = df_reviews['url'][0].split('-')[1] + '-' + df_reviews['url'][0].split('-')[2]"
   ]
  },
  {
   "cell_type": "code",
   "execution_count": 247,
   "metadata": {},
   "outputs": [],
   "source": [
    "df_reviews['review_id'] = df_reviews['url'][0].split('-')[1] + '-' + df_reviews['url'][0].split('-')[2] + '-' + df_reviews['url'][0].split('-')[3]"
   ]
  },
  {
   "cell_type": "code",
   "execution_count": 255,
   "metadata": {},
   "outputs": [],
   "source": [
    "rev_columns = [\n",
    "    'rest_id',\n",
    "    'review_id',\n",
    "    'restaurant_name',\n",
    "    'url',\n",
    "    'username',\n",
    "    'date',\n",
    "    'review_title',\n",
    "    'review_body',\n",
    "    'date_of_visit',\n",
    "    'stars_amount',\n",
    "]"
   ]
  },
  {
   "cell_type": "code",
   "execution_count": 256,
   "metadata": {},
   "outputs": [
    {
     "data": {
      "text/html": [
       "<div>\n",
       "<style scoped>\n",
       "    .dataframe tbody tr th:only-of-type {\n",
       "        vertical-align: middle;\n",
       "    }\n",
       "\n",
       "    .dataframe tbody tr th {\n",
       "        vertical-align: top;\n",
       "    }\n",
       "\n",
       "    .dataframe thead th {\n",
       "        text-align: right;\n",
       "    }\n",
       "</style>\n",
       "<table border=\"1\" class=\"dataframe\">\n",
       "  <thead>\n",
       "    <tr style=\"text-align: right;\">\n",
       "      <th></th>\n",
       "      <th>rest_id</th>\n",
       "      <th>review_id</th>\n",
       "      <th>restaurant_name</th>\n",
       "      <th>url</th>\n",
       "      <th>username</th>\n",
       "      <th>date</th>\n",
       "      <th>review_title</th>\n",
       "      <th>review_body</th>\n",
       "      <th>date_of_visit</th>\n",
       "      <th>stars_amount</th>\n",
       "    </tr>\n",
       "  </thead>\n",
       "  <tbody>\n",
       "    <tr>\n",
       "      <th>0</th>\n",
       "      <td>g298484-d10841351</td>\n",
       "      <td>g298484-d10841351-r823334817</td>\n",
       "      <td>Любовь Пирогова</td>\n",
       "      <td>https://www.tripadvisor.ru//ShowUserReviews-g2...</td>\n",
       "      <td>olgusik1995</td>\n",
       "      <td>Отзыв написан неделю назад</td>\n",
       "      <td>Вкусный визит</td>\n",
       "      <td>Вкусно) очень вкусно попробовали несколько раз...</td>\n",
       "      <td>Дата посещения: декабрь 2021 г.</td>\n",
       "      <td>5</td>\n",
       "    </tr>\n",
       "    <tr>\n",
       "      <th>1</th>\n",
       "      <td>g298484-d10841351</td>\n",
       "      <td>g298484-d10841351-r823334817</td>\n",
       "      <td>Любовь Пирогова</td>\n",
       "      <td>https://www.tripadvisor.ru//ShowUserReviews-g2...</td>\n",
       "      <td>alexsW1908FJ</td>\n",
       "      <td>Отзыв написан неделю назад</td>\n",
       "      <td>Необычные сочетания продуктов в начинке</td>\n",
       "      <td>Необычные сочетания продуктов в начинке. Безус...</td>\n",
       "      <td>Дата посещения: декабрь 2021 г.</td>\n",
       "      <td>5</td>\n",
       "    </tr>\n",
       "    <tr>\n",
       "      <th>2</th>\n",
       "      <td>g298484-d10841351</td>\n",
       "      <td>g298484-d10841351-r823334817</td>\n",
       "      <td>Любовь Пирогова</td>\n",
       "      <td>https://www.tripadvisor.ru//ShowUserReviews-g2...</td>\n",
       "      <td>_K6782NJ</td>\n",
       "      <td>Отзыв написан неделю назад</td>\n",
       "      <td>Лучшие пироги тут</td>\n",
       "      <td>Впервые были тут и попробовали пироги. Нежнейш...</td>\n",
       "      <td>Дата посещения: декабрь 2021 г.</td>\n",
       "      <td>5</td>\n",
       "    </tr>\n",
       "    <tr>\n",
       "      <th>3</th>\n",
       "      <td>g298484-d10841351</td>\n",
       "      <td>g298484-d10841351-r823334817</td>\n",
       "      <td>Любовь Пирогова</td>\n",
       "      <td>https://www.tripadvisor.ru//ShowUserReviews-g2...</td>\n",
       "      <td>Alexey_Kalinin</td>\n",
       "      <td>Отзыв написан 2 недели назад</td>\n",
       "      <td>Лучшие пироги в Москве</td>\n",
       "      <td>Домой с доставкой заказали. Как всегда идеальн...</td>\n",
       "      <td>Дата посещения: декабрь 2021 г.</td>\n",
       "      <td>5</td>\n",
       "    </tr>\n",
       "    <tr>\n",
       "      <th>4</th>\n",
       "      <td>g298484-d10841351</td>\n",
       "      <td>g298484-d10841351-r823334817</td>\n",
       "      <td>Любовь Пирогова</td>\n",
       "      <td>https://www.tripadvisor.ru//ShowUserReviews-g2...</td>\n",
       "      <td>803evgeniias</td>\n",
       "      <td>Отзыв написан 2 недели назад</td>\n",
       "      <td>Доставка наивкуснейших пирогов</td>\n",
       "      <td>Без притворства это наивкуснейшие пироги! Зака...</td>\n",
       "      <td>Дата посещения: декабрь 2021 г.</td>\n",
       "      <td>5</td>\n",
       "    </tr>\n",
       "  </tbody>\n",
       "</table>\n",
       "</div>"
      ],
      "text/plain": [
       "             rest_id                     review_id  restaurant_name  \\\n",
       "0  g298484-d10841351  g298484-d10841351-r823334817  Любовь Пирогова   \n",
       "1  g298484-d10841351  g298484-d10841351-r823334817  Любовь Пирогова   \n",
       "2  g298484-d10841351  g298484-d10841351-r823334817  Любовь Пирогова   \n",
       "3  g298484-d10841351  g298484-d10841351-r823334817  Любовь Пирогова   \n",
       "4  g298484-d10841351  g298484-d10841351-r823334817  Любовь Пирогова   \n",
       "\n",
       "                                                 url        username  \\\n",
       "0  https://www.tripadvisor.ru//ShowUserReviews-g2...     olgusik1995   \n",
       "1  https://www.tripadvisor.ru//ShowUserReviews-g2...    alexsW1908FJ   \n",
       "2  https://www.tripadvisor.ru//ShowUserReviews-g2...        _K6782NJ   \n",
       "3  https://www.tripadvisor.ru//ShowUserReviews-g2...  Alexey_Kalinin   \n",
       "4  https://www.tripadvisor.ru//ShowUserReviews-g2...    803evgeniias   \n",
       "\n",
       "                            date                             review_title  \\\n",
       "0    Отзыв написан неделю назад                             Вкусный визит   \n",
       "1    Отзыв написан неделю назад   Необычные сочетания продуктов в начинке   \n",
       "2    Отзыв написан неделю назад                         Лучшие пироги тут   \n",
       "3  Отзыв написан 2 недели назад                    Лучшие пироги в Москве   \n",
       "4  Отзыв написан 2 недели назад            Доставка наивкуснейших пирогов   \n",
       "\n",
       "                                         review_body  \\\n",
       "0  Вкусно) очень вкусно попробовали несколько раз...   \n",
       "1  Необычные сочетания продуктов в начинке. Безус...   \n",
       "2  Впервые были тут и попробовали пироги. Нежнейш...   \n",
       "3  Домой с доставкой заказали. Как всегда идеальн...   \n",
       "4  Без притворства это наивкуснейшие пироги! Зака...   \n",
       "\n",
       "                     date_of_visit  stars_amount  \n",
       "0  Дата посещения: декабрь 2021 г.             5  \n",
       "1  Дата посещения: декабрь 2021 г.             5  \n",
       "2  Дата посещения: декабрь 2021 г.             5  \n",
       "3  Дата посещения: декабрь 2021 г.             5  \n",
       "4  Дата посещения: декабрь 2021 г.             5  "
      ]
     },
     "execution_count": 256,
     "metadata": {},
     "output_type": "execute_result"
    }
   ],
   "source": [
    "df_reviews[rev_columns].head()"
   ]
  },
  {
   "cell_type": "code",
   "execution_count": 258,
   "metadata": {},
   "outputs": [],
   "source": [
    "df_reviews[rev_columns].to_feather('../data/reviews.feather')"
   ]
  },
  {
   "cell_type": "code",
   "execution_count": null,
   "metadata": {},
   "outputs": [],
   "source": []
  }
 ],
 "metadata": {
  "kernelspec": {
   "display_name": "Python 3",
   "language": "python",
   "name": "python3"
  },
  "language_info": {
   "codemirror_mode": {
    "name": "ipython",
    "version": 3
   },
   "file_extension": ".py",
   "mimetype": "text/x-python",
   "name": "python",
   "nbconvert_exporter": "python",
   "pygments_lexer": "ipython3",
   "version": "3.8.5"
  }
 },
 "nbformat": 4,
 "nbformat_minor": 4
}
