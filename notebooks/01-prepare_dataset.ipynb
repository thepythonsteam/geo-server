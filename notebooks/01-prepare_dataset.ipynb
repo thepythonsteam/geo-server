{
 "cells": [
  {
   "cell_type": "markdown",
   "metadata": {},
   "source": [
    "# Подготовка данных"
   ]
  },
  {
   "cell_type": "markdown",
   "metadata": {},
   "source": [
    "### Импорт библиотек"
   ]
  },
  {
   "cell_type": "code",
   "execution_count": 220,
   "metadata": {},
   "outputs": [],
   "source": [
    "import re\n",
    "import numpy as np\n",
    "import pandas as pd"
   ]
  },
  {
   "cell_type": "code",
   "execution_count": 221,
   "metadata": {},
   "outputs": [],
   "source": [
    "pd.set_option('display.max_columns', None)\n",
    "pd.set_option('display.max_rows', None)"
   ]
  },
  {
   "cell_type": "markdown",
   "metadata": {},
   "source": [
    "# Рестораны"
   ]
  },
  {
   "cell_type": "code",
   "execution_count": 222,
   "metadata": {},
   "outputs": [],
   "source": [
    "df_restaurants = pd.read_json('../mining/restaurants_new.json')"
   ]
  },
  {
   "cell_type": "code",
   "execution_count": 223,
   "metadata": {},
   "outputs": [
    {
     "data": {
      "text/plain": [
       "(10082, 12)"
      ]
     },
     "execution_count": 223,
     "metadata": {},
     "output_type": "execute_result"
    }
   ],
   "source": [
    "df_restaurants.shape"
   ]
  },
  {
   "cell_type": "code",
   "execution_count": 224,
   "metadata": {},
   "outputs": [],
   "source": [
    "for i in range(1, 6):\n",
    "    column_name = '{}_star'.format(i)\n",
    "    df_restaurants[column_name] = df_restaurants['assessments_info'].apply(lambda x: x.get(column_name)).\\\n",
    "        str.encode('ascii', 'ignore').str.decode('utf-8').astype(float).fillna(0).astype(int)"
   ]
  },
  {
   "cell_type": "code",
   "execution_count": 225,
   "metadata": {},
   "outputs": [],
   "source": [
    "df_restaurants['review_count'] = df_restaurants['review_count'].str.encode('ascii', 'ignore').str.decode('utf-8').replace('', '0').astype(int)"
   ]
  },
  {
   "cell_type": "code",
   "execution_count": 226,
   "metadata": {},
   "outputs": [],
   "source": [
    "df_restaurants['rating'] = df_restaurants['rating'].str.encode('ascii', 'ignore').str.decode('utf-8').str.replace(',', '.').replace('', '0').astype(float)"
   ]
  },
  {
   "cell_type": "code",
   "execution_count": 227,
   "metadata": {},
   "outputs": [],
   "source": [
    "stop_words = [\n",
    "    'Завтрак',\n",
    "    'Завтрак типа \"шведский стол\"',\n",
    "    'Обед', \n",
    "    'Ужин', \n",
    "    'Принимаются только наличные', \n",
    "    'Утвержденная парковка', \n",
    "    'Электронные платежи',\n",
    "    'Бесплатный Wi-Fi', \n",
    "    'Места для сидения',\n",
    "    'Обслуживание посетителей за\\xa0столиками',\n",
    "    'Принимаются карты Mastercard',\n",
    "    'Принимаются карты Visa',\n",
    "    'Для посетителей на автомобилях',\n",
    "    'Имеется парковка', \n",
    "    'Парковка на улице', \n",
    "    'Телевизор',\n",
    "    'Принимаются кредитные карты',\n",
    "    'Для\\xa0гостей с\\xa0собаками',\n",
    "]"
   ]
  },
  {
   "cell_type": "code",
   "execution_count": 228,
   "metadata": {},
   "outputs": [],
   "source": [
    "df_restaurants['kitchen'] = df_restaurants['locality'].str.split(',').apply(lambda x: [w.strip() for w in x]).\\\n",
    "    apply(lambda x: [w for w in x if w not in stop_words])"
   ]
  },
  {
   "cell_type": "code",
   "execution_count": 229,
   "metadata": {},
   "outputs": [
    {
     "data": {
      "text/plain": [
       "array(['Средиземноморская', 'Русская', 'Кафе', 'Барбекю', 'Гриль',\n",
       "       'Восточноевропейская', 'Европейская', 'Центральноевропейская',\n",
       "       'Итальянская', 'Пицца', 'Морепродукты', 'Бельгийская', 'Бар',\n",
       "       'Французская', 'Испанская', 'Паб', 'Гастропаб', 'Современная',\n",
       "       'Японская', 'Азиатская', 'Супы', 'Стейк-хаус', 'Американская',\n",
       "       'Напитки', 'Подходит для вегетарианцев', 'Для веганов',\n",
       "       'Безглютеновые блюда', 'Фастфуд', 'Фьюжн', 'Кавказская',\n",
       "       'Грузинская', 'Винный бар', 'Украинская', 'Аргентинская',\n",
       "       'Здоровая', 'Каталанская', 'Международная', 'Тосканская',\n",
       "       'Центрально-итальянская', 'Неаполитанская', 'Кухня Кампании',\n",
       "       'Ирландская', 'Британская', 'Шотландская', 'Суши',\n",
       "       'Южно-итальянская', 'Шведская', 'Скандинавская', 'Датская',\n",
       "       'Норвежская', 'Кошерная', 'Немецкая', 'Закусочная',\n",
       "       'Открыто допоздна', 'Бранч', 'Карибская', 'Гавайская', 'Ямайская',\n",
       "       'Корейская', 'Кухня Хоккайдо', 'Филиппинская', 'Ближневосточная',\n",
       "       'Китайская', 'Бары с рестораном', 'Индийская', 'Вьетнамская', nan,\n",
       "       'Узбекская', 'Израильская', 'Мексиканская', 'Марокканская',\n",
       "       'Греческая', 'Армянская', 'Азербайджанская', 'Гастроном',\n",
       "       'Тайская', 'Турецкая', 'Латиноамериканская', 'Перуанская',\n",
       "       'Халяль', 'Индонезийская', 'Бронирование', 'Подают алкоголь',\n",
       "       'Кубинская', 'Южноамериканская', 'Японская кухня-фьюжн',\n",
       "       'Еда на вынос', 'Швейцарская', 'Сицилийская', 'Арабская',\n",
       "       'Паб с пивоварней', 'Доставка', 'Чешская',\n",
       "       'Детские стульчики для кормления', 'Доступ для кресел-каталок',\n",
       "       'Пивные рестораны', 'Римская', 'Кухня Лацио',\n",
       "       'Центральноамериканская', 'Непальская', 'Монгольская',\n",
       "       'Полинезийская', 'Юговосточная', 'Австрийская', 'Румынская',\n",
       "       'Ливанская', 'Персидская', 'Уличная еда', 'Бангладешская',\n",
       "       'Польская', 'Фруктовые салоны', 'Голландская', 'Африканская',\n",
       "       'Эфиопская', 'Хорватская', 'Португальская',\n",
       "       'Столики на открытом воздухе', 'Банкет', 'Вино и пиво',\n",
       "       'Живая музыка', 'Семейный', 'Центральноазиатская', 'Австралийская',\n",
       "       'Пакистанская', 'Словенская', 'Тайваньская', 'Египетская',\n",
       "       'Бразильская', 'Индейская', 'Канадская', 'Лечебное питание',\n",
       "       'Северно-итальянская', 'Сингапурская', 'Малазийская', 'Тибетская',\n",
       "       'Шриланкийская', 'Пекинская кухня', 'Венгерская',\n",
       "       'Салон японских сладостей', 'Афганская', 'Венесуэльская',\n",
       "       'Колумбийская', 'Латышская'], dtype=object)"
      ]
     },
     "execution_count": 229,
     "metadata": {},
     "output_type": "execute_result"
    }
   ],
   "source": [
    "df_restaurants['kitchen'].explode().unique()"
   ]
  },
  {
   "cell_type": "code",
   "execution_count": 230,
   "metadata": {},
   "outputs": [],
   "source": [
    "df_restaurants['price'] = df_restaurants['price'].str.encode('ascii', 'ignore').str.decode('utf-8').str.replace(',', '').\\\n",
    "    str.replace(' ', '').str.split('-').apply(lambda x: [w.strip() for w in x])"
   ]
  },
  {
   "cell_type": "code",
   "execution_count": 231,
   "metadata": {},
   "outputs": [],
   "source": [
    "df_restaurants['price_min'] = df_restaurants['price'].apply(lambda x: int(x[0]) if x[0] != '' else 0)\n",
    "df_restaurants['price_max'] = df_restaurants['price'].apply(lambda x: int(x[1]) if x[0] != '' else 0)"
   ]
  },
  {
   "cell_type": "code",
   "execution_count": 232,
   "metadata": {},
   "outputs": [
    {
     "data": {
      "text/plain": [
       "' Местоположение и контактные данныеул. 1905 года, 10/1, Москва 123022 РоссияПресненский район1,3 км  от: Московский зоопаркСайтЭлектронная почта+7 926 222-71-22Исправить данные об объекте'"
      ]
     },
     "execution_count": 232,
     "metadata": {},
     "output_type": "execute_result"
    }
   ],
   "source": [
    "df_restaurants['geodata'][0]"
   ]
  },
  {
   "cell_type": "code",
   "execution_count": 233,
   "metadata": {},
   "outputs": [],
   "source": [
    "restaurants = df_restaurants['title'].unique().tolist()"
   ]
  },
  {
   "cell_type": "code",
   "execution_count": 240,
   "metadata": {},
   "outputs": [],
   "source": [
    "# restaurants"
   ]
  },
  {
   "cell_type": "code",
   "execution_count": 235,
   "metadata": {},
   "outputs": [],
   "source": [
    "df_restaurants['rest_id'] = df_restaurants['url'][0].split('-')[1] + '-' + df_restaurants['url'][0].split('-')[2]"
   ]
  },
  {
   "cell_type": "code",
   "execution_count": 236,
   "metadata": {},
   "outputs": [],
   "source": [
    "columns = [\n",
    "    'rest_id',\n",
    "    'url',\n",
    "    'title',\n",
    "    'rating',\n",
    "    'review_count',\n",
    "    'street_adress',\n",
    "    'phone_number',\n",
    "    '1_star',\n",
    "    '2_star',\n",
    "    '3_star',\n",
    "    '4_star',\n",
    "    '5_star',\n",
    "    'kitchen',\n",
    "    'price_min',\n",
    "    'price_max',\n",
    "]"
   ]
  },
  {
   "cell_type": "code",
   "execution_count": 237,
   "metadata": {},
   "outputs": [
    {
     "data": {
      "text/html": [
       "<div>\n",
       "<style scoped>\n",
       "    .dataframe tbody tr th:only-of-type {\n",
       "        vertical-align: middle;\n",
       "    }\n",
       "\n",
       "    .dataframe tbody tr th {\n",
       "        vertical-align: top;\n",
       "    }\n",
       "\n",
       "    .dataframe thead th {\n",
       "        text-align: right;\n",
       "    }\n",
       "</style>\n",
       "<table border=\"1\" class=\"dataframe\">\n",
       "  <thead>\n",
       "    <tr style=\"text-align: right;\">\n",
       "      <th></th>\n",
       "      <th>rest_id</th>\n",
       "      <th>url</th>\n",
       "      <th>title</th>\n",
       "      <th>rating</th>\n",
       "      <th>review_count</th>\n",
       "      <th>street_adress</th>\n",
       "      <th>phone_number</th>\n",
       "      <th>1_star</th>\n",
       "      <th>2_star</th>\n",
       "      <th>3_star</th>\n",
       "      <th>4_star</th>\n",
       "      <th>5_star</th>\n",
       "      <th>kitchen</th>\n",
       "      <th>price_min</th>\n",
       "      <th>price_max</th>\n",
       "    </tr>\n",
       "  </thead>\n",
       "  <tbody>\n",
       "    <tr>\n",
       "      <th>0</th>\n",
       "      <td>g298484-d8429267</td>\n",
       "      <td>https://www.tripadvisor.ru//Restaurant_Review-...</td>\n",
       "      <td>Сабор де ла Вида Ресторан</td>\n",
       "      <td>5.0</td>\n",
       "      <td>323</td>\n",
       "      <td>ул. 1905 года, 10/1, Москва 123022 Россия</td>\n",
       "      <td>+7 926 222-71-22</td>\n",
       "      <td>2</td>\n",
       "      <td>2</td>\n",
       "      <td>7</td>\n",
       "      <td>16</td>\n",
       "      <td>275</td>\n",
       "      <td>[Средиземноморская]</td>\n",
       "      <td>280</td>\n",
       "      <td>2500</td>\n",
       "    </tr>\n",
       "    <tr>\n",
       "      <th>1</th>\n",
       "      <td>g298484-d8429267</td>\n",
       "      <td>https://www.tripadvisor.ru//Restaurant_Review-...</td>\n",
       "      <td>Любовь Пирогова</td>\n",
       "      <td>5.0</td>\n",
       "      <td>138</td>\n",
       "      <td>ул. Мытная, 74 Даниловский рынок, Москва 11519...</td>\n",
       "      <td>+7 495 120-00-97</td>\n",
       "      <td>2</td>\n",
       "      <td>3</td>\n",
       "      <td>3</td>\n",
       "      <td>4</td>\n",
       "      <td>122</td>\n",
       "      <td>[Русская, Кафе]</td>\n",
       "      <td>150</td>\n",
       "      <td>500</td>\n",
       "    </tr>\n",
       "    <tr>\n",
       "      <th>2</th>\n",
       "      <td>g298484-d8429267</td>\n",
       "      <td>https://www.tripadvisor.ru//Restaurant_Review-...</td>\n",
       "      <td>Джумбус</td>\n",
       "      <td>5.0</td>\n",
       "      <td>320</td>\n",
       "      <td>ул. Добровольческая 12, Москва 109004 Россия</td>\n",
       "      <td>+7 903 590-34-70</td>\n",
       "      <td>4</td>\n",
       "      <td>2</td>\n",
       "      <td>9</td>\n",
       "      <td>11</td>\n",
       "      <td>279</td>\n",
       "      <td>[Средиземноморская, Барбекю, Гриль, Восточноев...</td>\n",
       "      <td>100</td>\n",
       "      <td>1000</td>\n",
       "    </tr>\n",
       "    <tr>\n",
       "      <th>3</th>\n",
       "      <td>g298484-d8429267</td>\n",
       "      <td>https://www.tripadvisor.ru//Restaurant_Review-...</td>\n",
       "      <td>Остерия Марио</td>\n",
       "      <td>4.5</td>\n",
       "      <td>319</td>\n",
       "      <td>ул. Балтийская, 9, Москва 125315 Россия</td>\n",
       "      <td>+7 968 681-18-66</td>\n",
       "      <td>5</td>\n",
       "      <td>7</td>\n",
       "      <td>19</td>\n",
       "      <td>37</td>\n",
       "      <td>238</td>\n",
       "      <td>[Итальянская, Пицца, Морепродукты, Средиземном...</td>\n",
       "      <td>800</td>\n",
       "      <td>1200</td>\n",
       "    </tr>\n",
       "    <tr>\n",
       "      <th>4</th>\n",
       "      <td>g298484-d8429267</td>\n",
       "      <td>https://www.tripadvisor.ru//Restaurant_Review-...</td>\n",
       "      <td>Leffe Cafe</td>\n",
       "      <td>5.0</td>\n",
       "      <td>138</td>\n",
       "      <td>Расторгуевский переулок, дом 3А, Москва 123557...</td>\n",
       "      <td>+7 915 323-73-30</td>\n",
       "      <td>0</td>\n",
       "      <td>2</td>\n",
       "      <td>6</td>\n",
       "      <td>9</td>\n",
       "      <td>112</td>\n",
       "      <td>[Европейская, Бельгийская, Бар, Кафе]</td>\n",
       "      <td>500</td>\n",
       "      <td>1400</td>\n",
       "    </tr>\n",
       "  </tbody>\n",
       "</table>\n",
       "</div>"
      ],
      "text/plain": [
       "            rest_id                                                url  \\\n",
       "0  g298484-d8429267  https://www.tripadvisor.ru//Restaurant_Review-...   \n",
       "1  g298484-d8429267  https://www.tripadvisor.ru//Restaurant_Review-...   \n",
       "2  g298484-d8429267  https://www.tripadvisor.ru//Restaurant_Review-...   \n",
       "3  g298484-d8429267  https://www.tripadvisor.ru//Restaurant_Review-...   \n",
       "4  g298484-d8429267  https://www.tripadvisor.ru//Restaurant_Review-...   \n",
       "\n",
       "                       title  rating  review_count  \\\n",
       "0  Сабор де ла Вида Ресторан     5.0           323   \n",
       "1            Любовь Пирогова     5.0           138   \n",
       "2                    Джумбус     5.0           320   \n",
       "3              Остерия Марио     4.5           319   \n",
       "4                 Leffe Cafe     5.0           138   \n",
       "\n",
       "                                       street_adress      phone_number  \\\n",
       "0          ул. 1905 года, 10/1, Москва 123022 Россия  +7 926 222-71-22   \n",
       "1  ул. Мытная, 74 Даниловский рынок, Москва 11519...  +7 495 120-00-97   \n",
       "2       ул. Добровольческая 12, Москва 109004 Россия  +7 903 590-34-70   \n",
       "3            ул. Балтийская, 9, Москва 125315 Россия  +7 968 681-18-66   \n",
       "4  Расторгуевский переулок, дом 3А, Москва 123557...  +7 915 323-73-30   \n",
       "\n",
       "   1_star  2_star  3_star  4_star  5_star  \\\n",
       "0       2       2       7      16     275   \n",
       "1       2       3       3       4     122   \n",
       "2       4       2       9      11     279   \n",
       "3       5       7      19      37     238   \n",
       "4       0       2       6       9     112   \n",
       "\n",
       "                                             kitchen  price_min  price_max  \n",
       "0                                [Средиземноморская]        280       2500  \n",
       "1                                    [Русская, Кафе]        150        500  \n",
       "2  [Средиземноморская, Барбекю, Гриль, Восточноев...        100       1000  \n",
       "3  [Итальянская, Пицца, Морепродукты, Средиземном...        800       1200  \n",
       "4              [Европейская, Бельгийская, Бар, Кафе]        500       1400  "
      ]
     },
     "execution_count": 237,
     "metadata": {},
     "output_type": "execute_result"
    }
   ],
   "source": [
    "df_restaurants[columns].head()"
   ]
  },
  {
   "cell_type": "code",
   "execution_count": 239,
   "metadata": {},
   "outputs": [],
   "source": [
    "df_restaurants[columns].to_feather('../data/restaurants.feather')"
   ]
  },
  {
   "cell_type": "markdown",
   "metadata": {},
   "source": [
    "# Обзоры"
   ]
  },
  {
   "cell_type": "code",
   "execution_count": 241,
   "metadata": {},
   "outputs": [],
   "source": [
    "df_reviews = pd.read_json('../mining/reviews.json')"
   ]
  },
  {
   "cell_type": "code",
   "execution_count": 242,
   "metadata": {},
   "outputs": [
    {
     "data": {
      "text/plain": [
       "(332139, 8)"
      ]
     },
     "execution_count": 242,
     "metadata": {},
     "output_type": "execute_result"
    }
   ],
   "source": [
    "df_reviews.shape"
   ]
  },
  {
   "cell_type": "code",
   "execution_count": 245,
   "metadata": {},
   "outputs": [],
   "source": [
    "df_reviews['rest_id'] = df_reviews['url'][0].split('-')[1] + '-' + df_reviews['url'][0].split('-')[2]"
   ]
  },
  {
   "cell_type": "code",
   "execution_count": 247,
   "metadata": {},
   "outputs": [],
   "source": [
    "df_reviews['review_id'] = df_reviews['url'][0].split('-')[1] + '-' + df_reviews['url'][0].split('-')[2] + '-' + df_reviews['url'][0].split('-')[3]"
   ]
  },
  {
   "cell_type": "code",
   "execution_count": 255,
   "metadata": {},
   "outputs": [],
   "source": [
    "rev_columns = [\n",
    "    'rest_id',\n",
    "    'review_id',\n",
    "    'restaurant_name',\n",
    "    'url',\n",
    "    'username',\n",
    "    'date',\n",
    "    'review_title',\n",
    "    'review_body',\n",
    "    'date_of_visit',\n",
    "    'stars_amount',\n",
    "]"
   ]
  },
  {
   "cell_type": "code",
   "execution_count": 256,
   "metadata": {},
   "outputs": [
    {
     "data": {
      "text/html": [
       "<div>\n",
       "<style scoped>\n",
       "    .dataframe tbody tr th:only-of-type {\n",
       "        vertical-align: middle;\n",
       "    }\n",
       "\n",
       "    .dataframe tbody tr th {\n",
       "        vertical-align: top;\n",
       "    }\n",
       "\n",
       "    .dataframe thead th {\n",
       "        text-align: right;\n",
       "    }\n",
       "</style>\n",
       "<table border=\"1\" class=\"dataframe\">\n",
       "  <thead>\n",
       "    <tr style=\"text-align: right;\">\n",
       "      <th></th>\n",
       "      <th>rest_id</th>\n",
       "      <th>review_id</th>\n",
       "      <th>restaurant_name</th>\n",
       "      <th>url</th>\n",
       "      <th>username</th>\n",
       "      <th>date</th>\n",
       "      <th>review_title</th>\n",
       "      <th>review_body</th>\n",
       "      <th>date_of_visit</th>\n",
       "      <th>stars_amount</th>\n",
       "    </tr>\n",
       "  </thead>\n",
       "  <tbody>\n",
       "    <tr>\n",
       "      <th>0</th>\n",
       "      <td>g298484-d10841351</td>\n",
       "      <td>g298484-d10841351-r823334817</td>\n",
       "      <td>Любовь Пирогова</td>\n",
       "      <td>https://www.tripadvisor.ru//ShowUserReviews-g2...</td>\n",
       "      <td>olgusik1995</td>\n",
       "      <td>Отзыв написан неделю назад</td>\n",
       "      <td>Вкусный визит</td>\n",
       "      <td>Вкусно) очень вкусно попробовали несколько раз...</td>\n",
       "      <td>Дата посещения: декабрь 2021 г.</td>\n",
       "      <td>5</td>\n",
       "    </tr>\n",
       "    <tr>\n",
       "      <th>1</th>\n",
       "      <td>g298484-d10841351</td>\n",
       "      <td>g298484-d10841351-r823334817</td>\n",
       "      <td>Любовь Пирогова</td>\n",
       "      <td>https://www.tripadvisor.ru//ShowUserReviews-g2...</td>\n",
       "      <td>alexsW1908FJ</td>\n",
       "      <td>Отзыв написан неделю назад</td>\n",
       "      <td>Необычные сочетания продуктов в начинке</td>\n",
       "      <td>Необычные сочетания продуктов в начинке. Безус...</td>\n",
       "      <td>Дата посещения: декабрь 2021 г.</td>\n",
       "      <td>5</td>\n",
       "    </tr>\n",
       "    <tr>\n",
       "      <th>2</th>\n",
       "      <td>g298484-d10841351</td>\n",
       "      <td>g298484-d10841351-r823334817</td>\n",
       "      <td>Любовь Пирогова</td>\n",
       "      <td>https://www.tripadvisor.ru//ShowUserReviews-g2...</td>\n",
       "      <td>_K6782NJ</td>\n",
       "      <td>Отзыв написан неделю назад</td>\n",
       "      <td>Лучшие пироги тут</td>\n",
       "      <td>Впервые были тут и попробовали пироги. Нежнейш...</td>\n",
       "      <td>Дата посещения: декабрь 2021 г.</td>\n",
       "      <td>5</td>\n",
       "    </tr>\n",
       "    <tr>\n",
       "      <th>3</th>\n",
       "      <td>g298484-d10841351</td>\n",
       "      <td>g298484-d10841351-r823334817</td>\n",
       "      <td>Любовь Пирогова</td>\n",
       "      <td>https://www.tripadvisor.ru//ShowUserReviews-g2...</td>\n",
       "      <td>Alexey_Kalinin</td>\n",
       "      <td>Отзыв написан 2 недели назад</td>\n",
       "      <td>Лучшие пироги в Москве</td>\n",
       "      <td>Домой с доставкой заказали. Как всегда идеальн...</td>\n",
       "      <td>Дата посещения: декабрь 2021 г.</td>\n",
       "      <td>5</td>\n",
       "    </tr>\n",
       "    <tr>\n",
       "      <th>4</th>\n",
       "      <td>g298484-d10841351</td>\n",
       "      <td>g298484-d10841351-r823334817</td>\n",
       "      <td>Любовь Пирогова</td>\n",
       "      <td>https://www.tripadvisor.ru//ShowUserReviews-g2...</td>\n",
       "      <td>803evgeniias</td>\n",
       "      <td>Отзыв написан 2 недели назад</td>\n",
       "      <td>Доставка наивкуснейших пирогов</td>\n",
       "      <td>Без притворства это наивкуснейшие пироги! Зака...</td>\n",
       "      <td>Дата посещения: декабрь 2021 г.</td>\n",
       "      <td>5</td>\n",
       "    </tr>\n",
       "  </tbody>\n",
       "</table>\n",
       "</div>"
      ],
      "text/plain": [
       "             rest_id                     review_id  restaurant_name  \\\n",
       "0  g298484-d10841351  g298484-d10841351-r823334817  Любовь Пирогова   \n",
       "1  g298484-d10841351  g298484-d10841351-r823334817  Любовь Пирогова   \n",
       "2  g298484-d10841351  g298484-d10841351-r823334817  Любовь Пирогова   \n",
       "3  g298484-d10841351  g298484-d10841351-r823334817  Любовь Пирогова   \n",
       "4  g298484-d10841351  g298484-d10841351-r823334817  Любовь Пирогова   \n",
       "\n",
       "                                                 url        username  \\\n",
       "0  https://www.tripadvisor.ru//ShowUserReviews-g2...     olgusik1995   \n",
       "1  https://www.tripadvisor.ru//ShowUserReviews-g2...    alexsW1908FJ   \n",
       "2  https://www.tripadvisor.ru//ShowUserReviews-g2...        _K6782NJ   \n",
       "3  https://www.tripadvisor.ru//ShowUserReviews-g2...  Alexey_Kalinin   \n",
       "4  https://www.tripadvisor.ru//ShowUserReviews-g2...    803evgeniias   \n",
       "\n",
       "                            date                             review_title  \\\n",
       "0    Отзыв написан неделю назад                             Вкусный визит   \n",
       "1    Отзыв написан неделю назад   Необычные сочетания продуктов в начинке   \n",
       "2    Отзыв написан неделю назад                         Лучшие пироги тут   \n",
       "3  Отзыв написан 2 недели назад                    Лучшие пироги в Москве   \n",
       "4  Отзыв написан 2 недели назад            Доставка наивкуснейших пирогов   \n",
       "\n",
       "                                         review_body  \\\n",
       "0  Вкусно) очень вкусно попробовали несколько раз...   \n",
       "1  Необычные сочетания продуктов в начинке. Безус...   \n",
       "2  Впервые были тут и попробовали пироги. Нежнейш...   \n",
       "3  Домой с доставкой заказали. Как всегда идеальн...   \n",
       "4  Без притворства это наивкуснейшие пироги! Зака...   \n",
       "\n",
       "                     date_of_visit  stars_amount  \n",
       "0  Дата посещения: декабрь 2021 г.             5  \n",
       "1  Дата посещения: декабрь 2021 г.             5  \n",
       "2  Дата посещения: декабрь 2021 г.             5  \n",
       "3  Дата посещения: декабрь 2021 г.             5  \n",
       "4  Дата посещения: декабрь 2021 г.             5  "
      ]
     },
     "execution_count": 256,
     "metadata": {},
     "output_type": "execute_result"
    }
   ],
   "source": [
    "df_reviews[rev_columns].head()"
   ]
  },
  {
   "cell_type": "code",
   "execution_count": 258,
   "metadata": {},
   "outputs": [],
   "source": [
    "df_reviews[rev_columns].to_feather('../data/reviews.feather')"
   ]
  },
  {
   "cell_type": "code",
   "execution_count": null,
   "metadata": {},
   "outputs": [],
   "source": []
  }
 ],
 "metadata": {
  "kernelspec": {
   "display_name": "Python 3",
   "language": "python",
   "name": "python3"
  },
  "language_info": {
   "codemirror_mode": {
    "name": "ipython",
    "version": 3
   },
   "file_extension": ".py",
   "mimetype": "text/x-python",
   "name": "python",
   "nbconvert_exporter": "python",
   "pygments_lexer": "ipython3",
   "version": "3.8.5"
  }
 },
 "nbformat": 4,
 "nbformat_minor": 4
}
